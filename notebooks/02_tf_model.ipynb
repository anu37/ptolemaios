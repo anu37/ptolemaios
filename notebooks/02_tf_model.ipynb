{
 "metadata": {
  "language_info": {
   "codemirror_mode": {
    "name": "ipython",
    "version": 3
   },
   "file_extension": ".py",
   "mimetype": "text/x-python",
   "name": "python",
   "nbconvert_exporter": "python",
   "pygments_lexer": "ipython3",
   "version": "3.8.5-final"
  },
  "orig_nbformat": 2,
  "kernelspec": {
   "name": "python3",
   "display_name": "Python 3",
   "language": "python"
  }
 },
 "nbformat": 4,
 "nbformat_minor": 2,
 "cells": [
  {
   "cell_type": "code",
   "execution_count": 1,
   "metadata": {},
   "outputs": [
    {
     "output_type": "stream",
     "name": "stdout",
     "text": [
      "WARNING:tensorflow:From /home/aritra/anaconda3/lib/python3.8/site-packages/tensorflow/python/compat/v2_compat.py:96: disable_resource_variables (from tensorflow.python.ops.variable_scope) is deprecated and will be removed in a future version.\nInstructions for updating:\nnon-resource variables are not supported in the long term\n"
     ]
    }
   ],
   "source": [
    "import numpy as np \n",
    "import tensorflow.compat.v1 as tf\n",
    "tf.disable_v2_behavior()\n",
    "import matplotlib.pyplot as plt \n"
   ]
  },
  {
   "cell_type": "code",
   "execution_count": 2,
   "metadata": {},
   "outputs": [
    {
     "output_type": "error",
     "ename": "AttributeError",
     "evalue": "module 'tensorflow.compat.v1.random' has no attribute 'set_seed'",
     "traceback": [
      "\u001b[0;31m---------------------------------------------------------------------------\u001b[0m",
      "\u001b[0;31mAttributeError\u001b[0m                            Traceback (most recent call last)",
      "\u001b[0;32m<ipython-input-2-98a39b58e54c>\u001b[0m in \u001b[0;36m<module>\u001b[0;34m\u001b[0m\n\u001b[1;32m      1\u001b[0m \u001b[0mnp\u001b[0m\u001b[0;34m.\u001b[0m\u001b[0mrandom\u001b[0m\u001b[0;34m.\u001b[0m\u001b[0mseed\u001b[0m\u001b[0;34m(\u001b[0m\u001b[0;36m101\u001b[0m\u001b[0;34m)\u001b[0m\u001b[0;34m\u001b[0m\u001b[0;34m\u001b[0m\u001b[0m\n\u001b[0;32m----> 2\u001b[0;31m \u001b[0mtf\u001b[0m\u001b[0;34m.\u001b[0m\u001b[0mrandom\u001b[0m\u001b[0;34m.\u001b[0m\u001b[0mset_seed\u001b[0m\u001b[0;34m(\u001b[0m\u001b[0;36m101\u001b[0m\u001b[0;34m)\u001b[0m\u001b[0;34m\u001b[0m\u001b[0;34m\u001b[0m\u001b[0m\n\u001b[0m",
      "\u001b[0;31mAttributeError\u001b[0m: module 'tensorflow.compat.v1.random' has no attribute 'set_seed'"
     ]
    }
   ],
   "source": [
    "np.random.seed(101) \n",
    "tf.random.set_seed(101)"
   ]
  },
  {
   "cell_type": "code",
   "execution_count": null,
   "metadata": {},
   "outputs": [],
   "source": [
    "# Genrating random linear data \n",
    "# There will be 50 data points ranging from 0 to 50 \n",
    "x = np.linspace(0, 50, 50) \n",
    "y = np.linspace(0, 50, 50) \n",
    "\n",
    "# Adding noise to the random linear data \n",
    "x += np.random.uniform(-4, 4, 50) \n",
    "y += np.random.uniform(-4, 4, 50) \n",
    "\n",
    "n = len(x) # Number of data points \n"
   ]
  },
  {
   "cell_type": "code",
   "execution_count": 4,
   "metadata": {},
   "outputs": [],
   "source": [
    "X = tf.placeholder(\"float\") \n",
    "Y = tf.placeholder(\"float\") \n"
   ]
  },
  {
   "cell_type": "code",
   "execution_count": 5,
   "metadata": {},
   "outputs": [],
   "source": [
    "W = tf.Variable(np.random.randn(), name = \"W\") \n",
    "b = tf.Variable(np.random.randn(), name = \"b\") \n"
   ]
  },
  {
   "cell_type": "code",
   "execution_count": 6,
   "metadata": {},
   "outputs": [],
   "source": [
    "learning_rate = 0.01\n",
    "training_epochs = 1000\n"
   ]
  },
  {
   "cell_type": "code",
   "execution_count": 7,
   "metadata": {},
   "outputs": [],
   "source": [
    "# Hypothesis \n",
    "y_pred = tf.add(tf.multiply(X, W), b) \n",
    "\n",
    "# Mean Squared Error Cost Function \n",
    "cost = tf.reduce_sum(tf.pow(y_pred-Y, 2)) / (2 * n) \n",
    "\n",
    "# Gradient Descent Optimizer \n",
    "optimizer = tf.train.GradientDescentOptimizer(learning_rate).minimize(cost) \n",
    "\n",
    "# Global Variables Initializer \n",
    "init = tf.global_variables_initializer() \n"
   ]
  },
  {
   "cell_type": "code",
   "execution_count": 8,
   "metadata": {},
   "outputs": [
    {
     "output_type": "stream",
     "name": "stdout",
     "text": [
      "Epoch 50 : cost = 5.886804 W = 0.9951241 b = 1.2381054\n",
      "Epoch 100 : cost = 5.7912707 W = 0.99812365 b = 1.0914398\n",
      "Epoch 150 : cost = 5.7119675 W = 1.0008028 b = 0.96044314\n",
      "Epoch 200 : cost = 5.6459417 W = 1.0031956 b = 0.8434396\n",
      "Epoch 250 : cost = 5.590799 W = 1.0053328 b = 0.7389357\n",
      "Epoch 300 : cost = 5.544608 W = 1.007242 b = 0.6455922\n",
      "Epoch 350 : cost = 5.5057883 W = 1.008947 b = 0.56222\n",
      "Epoch 400 : cost = 5.473066 W = 1.01047 b = 0.48775345\n",
      "Epoch 450 : cost = 5.4453845 W = 1.0118302 b = 0.42124167\n",
      "Epoch 500 : cost = 5.421903 W = 1.0130452 b = 0.36183488\n",
      "Epoch 550 : cost = 5.4019217 W = 1.0141305 b = 0.30877414\n",
      "Epoch 600 : cost = 5.3848577 W = 1.0150996 b = 0.26138115\n",
      "Epoch 650 : cost = 5.3702464 W = 1.0159653 b = 0.21905091\n",
      "Epoch 700 : cost = 5.3577 W = 1.0167387 b = 0.18124212\n",
      "Epoch 750 : cost = 5.3468933 W = 1.0174294 b = 0.14747244\n",
      "Epoch 800 : cost = 5.3375573 W = 1.0180461 b = 0.11730931\n",
      "Epoch 850 : cost = 5.3294764 W = 1.0185971 b = 0.090368524\n",
      "Epoch 900 : cost = 5.322459 W = 1.0190892 b = 0.0663058\n",
      "Epoch 950 : cost = 5.3163586 W = 1.0195289 b = 0.044813324\n",
      "Epoch 1000 : cost = 5.3110332 W = 1.0199214 b = 0.02561663\n"
     ]
    }
   ],
   "source": [
    "# Starting the Tensorflow Session \n",
    "with tf.Session() as sess: \n",
    "\t\n",
    "\t# Initializing the Variables \n",
    "\tsess.run(init) \n",
    "\t\n",
    "\t# Iterating through all the epochs \n",
    "\tfor epoch in range(training_epochs): \n",
    "\t\t\n",
    "\t\t# Feeding each data point into the optimizer using Feed Dictionary \n",
    "\t\tfor (_x, _y) in zip(x, y): \n",
    "\t\t\tsess.run(optimizer, feed_dict = {X : _x, Y : _y}) \n",
    "\t\t\n",
    "\t\t# Displaying the result after every 50 epochs \n",
    "\t\tif (epoch + 1) % 50 == 0: \n",
    "\t\t\t# Calculating the cost a every epoch \n",
    "\t\t\tc = sess.run(cost, feed_dict = {X : x, Y : y}) \n",
    "\t\t\tprint(\"Epoch\", (epoch + 1), \": cost =\", c, \"W =\", sess.run(W), \"b =\", sess.run(b)) \n",
    "\t\n",
    "\t# Storing necessary values to be used outside the Session \n",
    "\ttraining_cost = sess.run(cost, feed_dict ={X: x, Y: y}) \n",
    "\tweight = sess.run(W) \n",
    "\tbias = sess.run(b) \n"
   ]
  },
  {
   "cell_type": "code",
   "execution_count": 10,
   "metadata": {},
   "outputs": [
    {
     "output_type": "stream",
     "name": "stdout",
     "text": [
      "Training cost = 5.3110332 Weight = 1.0199214 bias = 0.02561663 \n\n"
     ]
    }
   ],
   "source": [
    "# Calculating the predictions \n",
    "predictions = weight * x + bias \n",
    "print(\"Training cost =\", training_cost, \"Weight =\", weight, \"bias =\", bias, '\\n') "
   ]
  },
  {
   "cell_type": "code",
   "execution_count": null,
   "metadata": {},
   "outputs": [],
   "source": []
  }
 ]
}